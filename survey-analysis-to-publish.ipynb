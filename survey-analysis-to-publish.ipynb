{
 "cells": [
  {
   "cell_type": "markdown",
   "metadata": {},
   "source": [
    "# Supplementary Data: Survey Data Analysis\n",
    "\n",
    "## Metaphors considered harmful? An exploratory study of the effectiveness of functional metaphors for end-to-end encryption\n",
    "\n",
    "### Albese Demjaha, Jonathan Spring, Ingolf Becker, Simon Parkin and M. Angela Sasse\n",
    "\n",
    "{albese.demjaha.16, jonathan.spring.15, i.becker, s.parkin, a.sasse}@ucl.ac.uk\n",
    "\n",
    "The full will appear in USEC 2018, 18-21 February 2018, San Diego, CA, USA"
   ]
  },
  {
   "cell_type": "code",
   "execution_count": 1,
   "metadata": {
    "collapsed": true
   },
   "outputs": [],
   "source": [
    "import pandas as pd\n",
    "import matplotlib.pyplot as plt\n",
    "import numpy as np\n",
    "from scipy import stats\n",
    "import itertools, collections"
   ]
  },
  {
   "cell_type": "code",
   "execution_count": 2,
   "metadata": {
    "collapsed": true
   },
   "outputs": [],
   "source": [
    "%matplotlib inline"
   ]
  },
  {
   "cell_type": "code",
   "execution_count": 3,
   "metadata": {
    "collapsed": true
   },
   "outputs": [],
   "source": [
    "pd.options.display.max_colwidth = 200\n",
    "pd.options.display.max_columns = 500"
   ]
  },
  {
   "cell_type": "code",
   "execution_count": 4,
   "metadata": {},
   "outputs": [],
   "source": [
    "ls = pd.read_csv(\"data/survey-toPublish.csv\", index_col=0)"
   ]
  },
  {
   "cell_type": "code",
   "execution_count": null,
   "metadata": {},
   "outputs": [],
   "source": []
  },
  {
   "cell_type": "code",
   "execution_count": 5,
   "metadata": {},
   "outputs": [
    {
     "data": {
      "text/plain": [
       "212"
      ]
     },
     "execution_count": 5,
     "metadata": {},
     "output_type": "execute_result"
    }
   ],
   "source": [
    "len(ls)"
   ]
  },
  {
   "cell_type": "code",
   "execution_count": null,
   "metadata": {
    "collapsed": true
   },
   "outputs": [],
   "source": []
  },
  {
   "cell_type": "code",
   "execution_count": 6,
   "metadata": {
    "collapsed": true
   },
   "outputs": [],
   "source": [
    "beforeCols = collections.OrderedDict([('StatementOne', True), ('StatementTwo', False), \n",
    "                                      ('StatementThree', False), ('StatementFour', True)])\n",
    "afterCols = collections.OrderedDict([('PostStatementOne', True), ('PostStatementTwo', False), \n",
    "                                     ('PostStatementThree', False), ('PostStatementFour', True)])"
   ]
  },
  {
   "cell_type": "code",
   "execution_count": 7,
   "metadata": {
    "collapsed": true
   },
   "outputs": [],
   "source": [
    "numberChanges = ls.apply(lambda t: 4 - sum([((t[b] == t[a])) \n",
    "                                        for (b, bv), (a, av) in zip(beforeCols.items(), afterCols.items())]), axis=1)"
   ]
  },
  {
   "cell_type": "code",
   "execution_count": 8,
   "metadata": {
    "collapsed": true
   },
   "outputs": [],
   "source": [
    "beforeScore = ls[list(beforeCols.keys())].apply(lambda x: sum(x[y] == z for y, z in beforeCols.items()), axis=1)"
   ]
  },
  {
   "cell_type": "code",
   "execution_count": 9,
   "metadata": {
    "collapsed": true
   },
   "outputs": [],
   "source": [
    "afterScore = ls[list(afterCols.keys())].apply(lambda x: sum(x[y] == z for y, z in afterCols.items()), axis=1)"
   ]
  },
  {
   "cell_type": "code",
   "execution_count": null,
   "metadata": {
    "collapsed": true
   },
   "outputs": [],
   "source": []
  },
  {
   "cell_type": "code",
   "execution_count": 10,
   "metadata": {
    "collapsed": true
   },
   "outputs": [],
   "source": [
    "negativeScore = ls.apply(lambda t: sum([int((t[b] != bv and t[a] == av)) - 2*int((t[b] == bv and t[a] != av)) \n",
    "                                        for (b, bv), (a, av) in zip(beforeCols.items(), afterCols.items())]), axis=1)"
   ]
  },
  {
   "cell_type": "code",
   "execution_count": 11,
   "metadata": {
    "collapsed": true
   },
   "outputs": [],
   "source": [
    "ls['beforeScore'] = beforeScore\n",
    "ls[\"afterScore\"] = afterScore\n",
    "ls[\"changeScore\"] = afterScore - beforeScore\n",
    "ls[\"negativeScore\"] = negativeScore\n",
    "ls[\"numberChanges\"] = numberChanges"
   ]
  },
  {
   "cell_type": "code",
   "execution_count": 12,
   "metadata": {},
   "outputs": [
    {
     "data": {
      "text/plain": [
       "False"
      ]
     },
     "execution_count": 12,
     "metadata": {},
     "output_type": "execute_result"
    }
   ],
   "source": [
    "(ls.changeScore == ls.negativeScore).all()"
   ]
  },
  {
   "cell_type": "code",
   "execution_count": null,
   "metadata": {
    "collapsed": true
   },
   "outputs": [],
   "source": []
  },
  {
   "cell_type": "code",
   "execution_count": 13,
   "metadata": {
    "collapsed": true
   },
   "outputs": [],
   "source": [
    "def makeLatexTable(t):\n",
    "    numcols = max(len(x) for x in t)\n",
    "    lengths = [[len(x) for x in y] for y in t]\n",
    "    maxLengths = [max(y[i] if len(y) > i else 0 for y in lengths) for i in range(numcols)]\n",
    "    return \"\\\\\\\\\\n\".join(\" & \".join(\"%-*s\" %(maxLengths[j],t[i][j]) for j in range(min(numcols, len(t[i]))))\n",
    "                         for i in range(len(t))) + r\"\\\\\""
   ]
  },
  {
   "cell_type": "code",
   "execution_count": null,
   "metadata": {
    "collapsed": true
   },
   "outputs": [],
   "source": []
  },
  {
   "cell_type": "code",
   "execution_count": 14,
   "metadata": {},
   "outputs": [
    {
     "name": "stdout",
     "output_type": "stream",
     "text": [
      "Aggregation type: changeScore\n",
      "Metaphor 1 (42): mean -0.048 with WilcoxonResult(statistic=77.0, pvalue=0.6860313800116693)\n",
      "   Statement 1: scoreDiff:  5 with Fisher's p=0.0703\n",
      "   Statement 2: scoreDiff:  0 with Fisher's p=0.00168\n",
      "   Statement 3: scoreDiff: -2 with Fisher's p=0.000628\n",
      "   Statement 4: scoreDiff: -5 with Fisher's p=0.0878\n",
      "Metaphor 2 (36): mean 0.000 with WilcoxonResult(statistic=45.5, pvalue=1.0)\n",
      "   Statement 1: scoreDiff:  9 with Fisher's p=0.204\n",
      "   Statement 2: scoreDiff:  4 with Fisher's p=0.000774\n",
      "   Statement 3: scoreDiff: -4 with Fisher's p=0.00244\n",
      "   Statement 4: scoreDiff: -9 with Fisher's p=0.0308\n",
      "Metaphor 3 (48): mean 0.021 with WilcoxonResult(statistic=42.0, pvalue=0.79256347794451631)\n",
      "   Statement 1: scoreDiff:  3 with Fisher's p=2.14e-06\n",
      "   Statement 2: scoreDiff: -2 with Fisher's p=1.04e-05\n",
      "   Statement 3: scoreDiff:  2 with Fisher's p=1.04e-05\n",
      "   Statement 4: scoreDiff: -2 with Fisher's p=0.00439\n",
      "Metaphor 4 (39): mean 0.077 with WilcoxonResult(statistic=24.0, pvalue=0.36571229628151325)\n",
      "   Statement 1: scoreDiff:  3 with Fisher's p=0.000373\n",
      "   Statement 2: scoreDiff: -1 with Fisher's p=3.54e-06\n",
      "   Statement 3: scoreDiff:  5 with Fisher's p=0.000112\n",
      "   Statement 4: scoreDiff: -4 with Fisher's p=0.000851\n",
      "Metaphor 5 (47): mean 0.000 with WilcoxonResult(statistic=45.5, pvalue=1.0)\n",
      "   Statement 1: scoreDiff:  7 with Fisher's p=4.15e-05\n",
      "   Statement 2: scoreDiff:  0 with Fisher's p=2.62e-07\n",
      "   Statement 3: scoreDiff: -2 with Fisher's p=4.92e-06\n",
      "   Statement 4: scoreDiff: -5 with Fisher's p=0.278\n",
      "\n",
      "Aggregation type: negativeScore\n",
      "Metaphor 1 (42): mean -0.524 with WilcoxonResult(statistic=40.5, pvalue=0.0078729593195019237)\n",
      "Metaphor 2 (36): mean -0.528 with WilcoxonResult(statistic=21.5, pvalue=0.0076507185004053941)\n",
      "Metaphor 3 (48): mean -0.250 with WilcoxonResult(statistic=38.0, pvalue=0.061598566846985656)\n",
      "Metaphor 4 (39): mean -0.179 with WilcoxonResult(statistic=14.0, pvalue=0.1578682367599018)\n",
      "Metaphor 5 (47): mean -0.298 with WilcoxonResult(statistic=24.0, pvalue=0.037229303102167134)\n",
      "\n",
      "Aggregation type: numberChanges\n",
      "Metaphor 1 (42): mean 0.905 with WilcoxonResult(statistic=0.0, pvalue=2.5150007524178696e-05)\n",
      "Metaphor 2 (36): mean 1.056 with WilcoxonResult(statistic=0.0, pvalue=7.1219326092320244e-05)\n",
      "Metaphor 3 (48): mean 0.562 with WilcoxonResult(statistic=0.0, pvalue=0.00020000685656305773)\n",
      "Metaphor 4 (39): mean 0.590 with WilcoxonResult(statistic=0.0, pvalue=0.001166712612090172)\n",
      "Metaphor 5 (47): mean 0.596 with WilcoxonResult(statistic=0.0, pvalue=0.00029542977384167129)\n",
      "\n"
     ]
    }
   ],
   "source": [
    "table = [[\"Statement\"] + [str(x) for x in range(1,6)]] + [[\"%d\" %x] for x in range(1,5)] + [[\"mean\"], [\"negative mean\"],\n",
    "                                                                                            [\"changes\"]]\n",
    "for agi, agg in enumerate([\"changeScore\", \"negativeScore\", \"numberChanges\"]):\n",
    "    print(\"Aggregation type: %s\" %agg)\n",
    "    for m in range(1,6):\n",
    "        d = ls[ls.ask1 == m]\n",
    "        statistic = stats.wilcoxon(d[agg])\n",
    "        print(\"Metaphor %d (%d): mean %.3f with %s\" %(m, len(d), d[agg].mean(), repr(statistic)))\n",
    "        p = statistic[1]\n",
    "        table[agi+5].append(\"$%4.2f%s$\" %(d[agg].mean(),\"^{**}\" if p < 0.01 else \"^*\" if p < 0.05 else \"\"))\n",
    "        if agg == \"changeScore\":\n",
    "            for si, s in [(1, \"One\"), (2, \"Two\"), (3, \"Three\"), (4, \"Four\")]:\n",
    "                d1 = d[\"Statement%s\" %s] == beforeCols[\"Statement%s\" %s]\n",
    "                d2 = d[\"PostStatement%s\" %s] == afterCols[\"PostStatement%s\" %s]\n",
    "                ct = pd.crosstab(d1, d2)\n",
    "                statistic = stats.fisher_exact(ct)\n",
    "                p = statistic[1]\n",
    "                table[si].append(\"$%3.0f\\\\%%%s$\" %((sum(d2) - sum(d1))/len(d1)*100,\n",
    "                                                  \"^{**}\" if p < 0.01 else \"^*\" if p < 0.05 else \"\"))\n",
    "                print(\"   Statement %d: scoreDiff: %2d with Fisher's p=%.3g\" %(si, sum(d2) - sum(d1), statistic[1]))\n",
    "    print()"
   ]
  },
  {
   "cell_type": "code",
   "execution_count": 15,
   "metadata": {},
   "outputs": [
    {
     "data": {
      "text/plain": [
       "0.72641509433962259"
      ]
     },
     "execution_count": 15,
     "metadata": {},
     "output_type": "execute_result"
    }
   ],
   "source": [
    "ls['numberChanges'].mean()"
   ]
  },
  {
   "cell_type": "code",
   "execution_count": 16,
   "metadata": {},
   "outputs": [
    {
     "name": "stdout",
     "output_type": "stream",
     "text": [
      "Statement     & 1            & 2            & 3            & 4            & 5           \\\\\n",
      "1             & $ 12\\%$      & $ 25\\%$      & $  6\\%^{**}$ & $  8\\%^{**}$ & $ 15\\%^{**}$\\\\\n",
      "2             & $  0\\%^{**}$ & $ 11\\%^{**}$ & $ -4\\%^{**}$ & $ -3\\%^{**}$ & $  0\\%^{**}$\\\\\n",
      "3             & $ -5\\%^{**}$ & $-11\\%^{**}$ & $  4\\%^{**}$ & $ 13\\%^{**}$ & $ -4\\%^{**}$\\\\\n",
      "4             & $-12\\%$      & $-25\\%^*$    & $ -4\\%^{**}$ & $-10\\%^{**}$ & $-11\\%$     \\\\\n",
      "mean          & $-0.05$      & $0.00$       & $0.02$       & $0.08$       & $0.00$      \\\\\n",
      "negative mean & $-0.52^{**}$ & $-0.53^{**}$ & $-0.25$      & $-0.18$      & $-0.30^*$   \\\\\n",
      "changes       & $0.90^{**}$  & $1.06^{**}$  & $0.56^{**}$  & $0.59^{**}$  & $0.60^{**}$ \\\\\n"
     ]
    }
   ],
   "source": [
    "print(makeLatexTable(table))"
   ]
  },
  {
   "cell_type": "code",
   "execution_count": 17,
   "metadata": {
    "collapsed": true
   },
   "outputs": [],
   "source": [
    "def makeTableFancy(table):\n",
    "    newtable = []\n",
    "    for irow in range(len(table)):\n",
    "        newtable.append([])\n",
    "        for icol in range(len(table[irow])):\n",
    "            c = table[irow][icol]\n",
    "            if c.startswith(\"$\") and not any(c.startswith(x) for x in [\"$-\", \"$ -\"]):\n",
    "                c = \"$\\\\minusspace\" + c[1:]\n",
    "            if any(c.endswith(x) for x in [\"^{**}$\"]):\n",
    "                pass\n",
    "            elif any(c.endswith(x) for x in [\"^{*}$\", \"^*$\"]):\n",
    "                c = c[:-1] + \"\\\\singlestarspace$\"\n",
    "            elif any(c.endswith(x) for x in [\"$\"]):\n",
    "                c = c[:-1] + \"\\\\twostarspace$\"\n",
    "            newtable[-1].append(c)\n",
    "            \n",
    "    #newtable[4][-1] += \" \\\\midrule\"\n",
    "    #newtable[5][-1] += \" \\\\midrule\"\n",
    "    #newtable[6][-1] += \" \\\\midrule\"\n",
    "    return newtable"
   ]
  },
  {
   "cell_type": "code",
   "execution_count": 18,
   "metadata": {
    "scrolled": false
   },
   "outputs": [
    {
     "name": "stdout",
     "output_type": "stream",
     "text": [
      "Statement     & 1                               & 2                               & 3                              & 4                              & 5                             \\\\\n",
      "1             & $\\minusspace 12\\%\\twostarspace$ & $\\minusspace 25\\%\\twostarspace$ & $\\minusspace  6\\%^{**}$        & $\\minusspace  8\\%^{**}$        & $\\minusspace 15\\%^{**}$       \\\\\n",
      "2             & $\\minusspace  0\\%^{**}$         & $\\minusspace 11\\%^{**}$         & $ -4\\%^{**}$                   & $ -3\\%^{**}$                   & $\\minusspace  0\\%^{**}$       \\\\\n",
      "3             & $ -5\\%^{**}$                    & $-11\\%^{**}$                    & $\\minusspace  4\\%^{**}$        & $\\minusspace 13\\%^{**}$        & $ -4\\%^{**}$                  \\\\\n",
      "4             & $-12\\%\\twostarspace$            & $-25\\%^*\\singlestarspace$       & $ -4\\%^{**}$                   & $-10\\%^{**}$                   & $-11\\%\\twostarspace$          \\\\\n",
      "mean          & $-0.05\\twostarspace$            & $\\minusspace0.00\\twostarspace$  & $\\minusspace0.02\\twostarspace$ & $\\minusspace0.08\\twostarspace$ & $\\minusspace0.00\\twostarspace$\\\\\n",
      "negative mean & $-0.52^{**}$                    & $-0.53^{**}$                    & $-0.25\\twostarspace$           & $-0.18\\twostarspace$           & $-0.30^*\\singlestarspace$     \\\\\n",
      "changes       & $\\minusspace0.90^{**}$          & $\\minusspace1.06^{**}$          & $\\minusspace0.56^{**}$         & $\\minusspace0.59^{**}$         & $\\minusspace0.60^{**}$        \\\\\n"
     ]
    }
   ],
   "source": [
    "print(makeLatexTable(makeTableFancy(table)))"
   ]
  },
  {
   "cell_type": "code",
   "execution_count": null,
   "metadata": {
    "collapsed": true
   },
   "outputs": [],
   "source": []
  },
  {
   "cell_type": "code",
   "execution_count": 19,
   "metadata": {},
   "outputs": [
    {
     "name": "stdout",
     "output_type": "stream",
     "text": [
      "Statement     & 1            & 2            & 3            & 4            & 5           \\\\\n",
      "1             & $ 12\\%$      & $ 25\\%$      & $  6\\%^{**}$ & $  8\\%^{**}$ & $ 15\\%^{**}$\\\\\n",
      "2             & $  0\\%^{**}$ & $ 11\\%^{**}$ & $ -4\\%^{**}$ & $ -3\\%^{**}$ & $  0\\%^{**}$\\\\\n",
      "3             & $ -5\\%^{**}$ & $-11\\%^{**}$ & $  4\\%^{**}$ & $ 13\\%^{**}$ & $ -4\\%^{**}$\\\\\n",
      "4             & $-12\\%$      & $-25\\%^*$    & $ -4\\%^{**}$ & $-10\\%^{**}$ & $-11\\%$     \\\\\n",
      "mean          & $-0.05$      & $0.00$       & $0.02$       & $0.08$       & $0.00$      \\\\\n",
      "negative mean & $-0.52^{**}$ & $-0.53^{**}$ & $-0.25$      & $-0.18$      & $-0.30^*$   \\\\\n",
      "changes       & $0.90^{**}$  & $1.06^{**}$  & $0.56^{**}$  & $0.59^{**}$  & $0.60^{**}$ \\\\\n"
     ]
    }
   ],
   "source": [
    "print(makeLatexTable(table))"
   ]
  },
  {
   "cell_type": "code",
   "execution_count": 20,
   "metadata": {
    "collapsed": true
   },
   "outputs": [],
   "source": [
    "t = ls.groupby(\"ask1\").apply(lambda x: x.numberChanges.value_counts())"
   ]
  },
  {
   "cell_type": "code",
   "execution_count": null,
   "metadata": {
    "collapsed": true
   },
   "outputs": [],
   "source": []
  },
  {
   "cell_type": "code",
   "execution_count": 21,
   "metadata": {},
   "outputs": [
    {
     "data": {
      "text/plain": [
       "ask1   \n",
       "1     0    20\n",
       "      1    13\n",
       "      2     4\n",
       "      3     3\n",
       "      4     2\n",
       "2     0    16\n",
       "      1     8\n",
       "      2     7\n",
       "      3     4\n",
       "      4     1\n",
       "3     0    31\n",
       "      1    10\n",
       "      2     5\n",
       "      4     1\n",
       "      3     1\n",
       "4     0    26\n",
       "      1     7\n",
       "      3     4\n",
       "      2     2\n",
       "5     0    31\n",
       "      1    10\n",
       "      4     2\n",
       "      3     2\n",
       "      2     2\n",
       "Name: numberChanges, dtype: int64"
      ]
     },
     "execution_count": 21,
     "metadata": {},
     "output_type": "execute_result"
    }
   ],
   "source": [
    "t"
   ]
  },
  {
   "cell_type": "code",
   "execution_count": 22,
   "metadata": {
    "collapsed": true
   },
   "outputs": [],
   "source": [
    "for m in range(1,6):\n",
    "    d = ls[ls.ask1 == m]\n",
    "    #d[]"
   ]
  },
  {
   "cell_type": "code",
   "execution_count": 23,
   "metadata": {},
   "outputs": [
    {
     "data": {
      "text/plain": [
       "0    31\n",
       "1    10\n",
       "4     2\n",
       "3     2\n",
       "2     2\n",
       "Name: numberChanges, dtype: int64"
      ]
     },
     "execution_count": 23,
     "metadata": {},
     "output_type": "execute_result"
    }
   ],
   "source": [
    "d[agg].value_counts()"
   ]
  },
  {
   "cell_type": "code",
   "execution_count": null,
   "metadata": {
    "collapsed": true
   },
   "outputs": [],
   "source": []
  },
  {
   "cell_type": "code",
   "execution_count": 24,
   "metadata": {
    "collapsed": true
   },
   "outputs": [],
   "source": [
    "# So people do change their opinion due to the metaphors, with statistical significance, \n",
    "# but the changes don't make any difference"
   ]
  },
  {
   "cell_type": "code",
   "execution_count": 25,
   "metadata": {},
   "outputs": [
    {
     "name": "stdout",
     "output_type": "stream",
     "text": [
      "Aggregation type: afterScore\n",
      "Metaphor 1 (42, mean  2.333) vs 2 (36, mean  2.361): MWU(s=744.0, p=0.44919)\n",
      "Metaphor 1 (42, mean  2.333) vs 3 (48, mean  2.292): MWU(s=951.0, p=0.30328)\n",
      "Metaphor 1 (42, mean  2.333) vs 4 (39, mean  2.462): MWU(s=757.5, p=0.26490)\n",
      "Metaphor 1 (42, mean  2.333) vs 5 (47, mean  2.404): MWU(s=950.5, p=0.36933)\n",
      "Metaphor 2 (36, mean  2.361) vs 3 (48, mean  2.292): MWU(s=793.5, p=0.23221)\n",
      "Metaphor 2 (36, mean  2.361) vs 4 (39, mean  2.462): MWU(s=658.5, p=0.30682)\n",
      "Metaphor 2 (36, mean  2.361) vs 5 (47, mean  2.404): MWU(s=828.5, p=0.42842)\n",
      "Metaphor 3 (48, mean  2.292) vs 4 (39, mean  2.462): MWU(s=811.5, p=0.11601)\n",
      "Metaphor 3 (48, mean  2.292) vs 5 (47, mean  2.404): MWU(s=1006.0, p=0.14301)\n",
      "Metaphor 4 (39, mean  2.462) vs 5 (47, mean  2.404): MWU(s=877.5, p=0.35313)\n",
      "\n",
      "Aggregation type: changeScore\n",
      "Metaphor 1 (42, mean -0.048) vs 2 (36, mean  0.000): MWU(s=738.5, p=0.42297)\n",
      "Metaphor 1 (42, mean -0.048) vs 3 (48, mean  0.021): MWU(s=974.5, p=0.37579)\n",
      "Metaphor 1 (42, mean -0.048) vs 4 (39, mean  0.077): MWU(s=737.5, p=0.18448)\n",
      "Metaphor 1 (42, mean -0.048) vs 5 (47, mean  0.000): MWU(s=935.5, p=0.31012)\n",
      "Metaphor 2 (36, mean  0.000) vs 3 (48, mean  0.021): MWU(s=855.0, p=0.46247)\n",
      "Metaphor 2 (36, mean  0.000) vs 4 (39, mean  0.077): MWU(s=644.5, p=0.23151)\n",
      "Metaphor 2 (36, mean  0.000) vs 5 (47, mean  0.000): MWU(s=818.0, p=0.37879)\n",
      "Metaphor 3 (48, mean  0.021) vs 4 (39, mean  0.077): MWU(s=864.0, p=0.21848)\n",
      "Metaphor 3 (48, mean  0.021) vs 5 (47, mean  0.000): MWU(s=1097.5, p=0.38777)\n",
      "Metaphor 4 (39, mean  0.077) vs 5 (47, mean  0.000): MWU(s=870.5, p=0.30808)\n",
      "\n",
      "Aggregation type: negativeScore\n",
      "Metaphor 1 (42, mean -0.524) vs 2 (36, mean -0.528): MWU(s=715.5, p=0.33224)\n",
      "Metaphor 1 (42, mean -0.524) vs 3 (48, mean -0.250): MWU(s=926.0, p=0.23064)\n",
      "Metaphor 1 (42, mean -0.524) vs 4 (39, mean -0.179): MWU(s=725.0, p=0.15529)\n",
      "Metaphor 1 (42, mean -0.524) vs 5 (47, mean -0.298): MWU(s=901.5, p=0.21471)\n",
      "Metaphor 2 (36, mean -0.528) vs 3 (48, mean -0.250): MWU(s=722.5, p=0.07492)\n",
      "Metaphor 2 (36, mean -0.528) vs 4 (39, mean -0.179): MWU(s=550.5, p=0.03079)\n",
      "Metaphor 2 (36, mean -0.528) vs 5 (47, mean -0.298): MWU(s=697.5, p=0.05972)\n",
      "Metaphor 3 (48, mean -0.250) vs 4 (39, mean -0.179): MWU(s=895.0, p=0.33635)\n",
      "Metaphor 3 (48, mean -0.250) vs 5 (47, mean -0.298): MWU(s=1107.5, p=0.42962)\n",
      "Metaphor 4 (39, mean -0.179) vs 5 (47, mean -0.298): MWU(s=898.5, p=0.42478)\n",
      "\n",
      "Aggregation type: numberChanges\n",
      "Metaphor 1 (42, mean  0.905) vs 2 (36, mean  1.056): MWU(s=700.0, p=0.27645)\n",
      "Metaphor 1 (42, mean  0.905) vs 3 (48, mean  0.562): MWU(s=829.5, p=0.05379)\n",
      "Metaphor 1 (42, mean  0.905) vs 4 (39, mean  0.590): MWU(s=669.5, p=0.05777)\n",
      "Metaphor 1 (42, mean  0.905) vs 5 (47, mean  0.596): MWU(s=804.0, p=0.04617)\n",
      "Metaphor 2 (36, mean  1.056) vs 3 (48, mean  0.562): MWU(s=654.0, p=0.01780)\n",
      "Metaphor 2 (36, mean  1.056) vs 4 (39, mean  0.590): MWU(s=535.0, p=0.02514)\n",
      "Metaphor 2 (36, mean  1.056) vs 5 (47, mean  0.596): MWU(s=640.0, p=0.01776)\n",
      "Metaphor 3 (48, mean  0.562) vs 4 (39, mean  0.590): MWU(s=928.0, p=0.46974)\n",
      "Metaphor 3 (48, mean  0.562) vs 5 (47, mean  0.596): MWU(s=1115.5, p=0.45786)\n",
      "Metaphor 4 (39, mean  0.590) vs 5 (47, mean  0.596): MWU(s=915.0, p=0.49587)\n",
      "\n"
     ]
    }
   ],
   "source": [
    "for agg in [\"afterScore\", \"changeScore\", \"negativeScore\", \"numberChanges\"]:\n",
    "    print(\"Aggregation type: %s\" %agg)\n",
    "    for m1 in [1, 2, 3, 4, 5]:\n",
    "        for m2 in range(m1+1,6):\n",
    "            d1 = ls[ls.ask1 == m1]\n",
    "            d2 = ls[ls.ask1 == m2]\n",
    "            statistic = stats.mannwhitneyu(d1[agg], d2[agg])\n",
    "            print(\"Metaphor %d (%d, mean %6.3f) vs %d (%d, mean %6.3f): MWU(s=%.1f, p=%.5f)\" %(\n",
    "                m1, len(d1), d1[agg].mean(), m2, len(d2), d2[agg].mean(), statistic[0], statistic[1]))\n",
    "    print()"
   ]
  },
  {
   "cell_type": "code",
   "execution_count": 26,
   "metadata": {
    "collapsed": true
   },
   "outputs": [],
   "source": [
    "# even though participants change their answers with statistical significance, those changes have no impact on their scores."
   ]
  },
  {
   "cell_type": "code",
   "execution_count": 27,
   "metadata": {},
   "outputs": [
    {
     "name": "stdout",
     "output_type": "stream",
     "text": [
      "Using changeScore: KruskalResult(statistic=1.1040372204489781, pvalue=0.89363112803996558)\n",
      "Using negativeScore: KruskalResult(statistic=4.1352562145675309, pvalue=0.38801027886596334)\n",
      "Using numberChanges: KruskalResult(statistic=8.5150121482324828, pvalue=0.074433491028407184)\n"
     ]
    }
   ],
   "source": [
    "for agg in [\"changeScore\", \"negativeScore\", \"numberChanges\"]:\n",
    "    print(\"Using %s: %s\" %(agg, stats.kruskal(ls[ls.ask1 == 1][agg], ls[ls.ask1 == 2][agg], ls[ls.ask1 == 3][agg], \n",
    "                  ls[ls.ask1 == 4][agg], ls[ls.ask1 == 5][agg])))"
   ]
  },
  {
   "cell_type": "code",
   "execution_count": 28,
   "metadata": {
    "collapsed": true
   },
   "outputs": [],
   "source": [
    "### does knowing the existing answer make a difference?"
   ]
  },
  {
   "cell_type": "code",
   "execution_count": 29,
   "metadata": {},
   "outputs": [
    {
     "name": "stdout",
     "output_type": "stream",
     "text": [
      "Aggregation type: changeScore\n",
      "Metaphor 1 seen (16, mean -0.250) vs unseen (26, mean  0.077): MWU(s=167.5, p=0.12328)\n",
      "Metaphor 2 seen (18, mean  0.056) vs unseen (18, mean -0.056): MWU(s=154.0, p=0.39059)\n",
      "Aggregation type: negativeScore\n",
      "Metaphor 1 seen (16, mean -1.000) vs unseen (26, mean -0.231): MWU(s=148.0, p=0.04852)\n",
      "Metaphor 2 seen (18, mean -0.500) vs unseen (18, mean -0.556): MWU(s=160.5, p=0.48624)\n",
      "Aggregation type: numberChanges\n",
      "Metaphor 1 seen (16, mean  1.250) vs unseen (26, mean  0.692): MWU(s=161.0, p=0.09722)\n",
      "Metaphor 2 seen (18, mean  1.167) vs unseen (18, mean  0.944): MWU(s=146.0, p=0.30192)\n"
     ]
    }
   ],
   "source": [
    "for agg in [\"changeScore\", \"negativeScore\", \"numberChanges\"]:\n",
    "    print(\"Aggregation type: %s\" %agg)\n",
    "    for mi, m in [(1, \"One\"), (2, \"Two\")]:\n",
    "        d1 = ls[(ls.ask1 == mi) & (ls[\"Metaphor%s\" %m] == \"Yes\")]\n",
    "        d2 = ls[(ls.ask1 == mi) & (ls[\"Metaphor%s\" %m] == \"No\")]\n",
    "        statistic = stats.mannwhitneyu(d1[agg], d2[agg])\n",
    "        print(\"Metaphor %d seen (%d, mean %6.3f) vs unseen (%d, mean %6.3f): MWU(s=%.1f, p=%.5f)\" %(\n",
    "            mi, len(d1), d1[agg].mean(), len(d2), d2[agg].mean(), statistic[0], statistic[1]))"
   ]
  },
  {
   "cell_type": "code",
   "execution_count": 30,
   "metadata": {
    "collapsed": true
   },
   "outputs": [],
   "source": [
    "# no it does not."
   ]
  },
  {
   "cell_type": "code",
   "execution_count": 31,
   "metadata": {
    "collapsed": true
   },
   "outputs": [],
   "source": [
    "## do existing apps over promise?\n",
    "#Check statements 2 and 3 change distribution different from 0"
   ]
  },
  {
   "cell_type": "code",
   "execution_count": 32,
   "metadata": {
    "collapsed": true
   },
   "outputs": [],
   "source": [
    "d = ls[ls.ask1.isin([1, 2])]\n",
    "before = []\n",
    "after = []\n",
    "for s in [\"Two\", \"Three\"]:\n",
    "    d1 = d[\"Statement%s\" %s] == beforeCols[\"Statement%s\" %s]\n",
    "    before.extend(d1.values.tolist())\n",
    "    d2 = d[\"PostStatement%s\" %s] == afterCols[\"PostStatement%s\" %s]\n",
    "    after.extend(d2.values.tolist())"
   ]
  },
  {
   "cell_type": "code",
   "execution_count": 33,
   "metadata": {
    "collapsed": true
   },
   "outputs": [],
   "source": [
    "ct = pd.crosstab(pd.Series(before), pd.Series(after))\n",
    "statistic = stats.fisher_exact(ct)"
   ]
  },
  {
   "cell_type": "code",
   "execution_count": 34,
   "metadata": {},
   "outputs": [
    {
     "data": {
      "text/plain": [
       "2"
      ]
     },
     "execution_count": 34,
     "metadata": {},
     "output_type": "execute_result"
    }
   ],
   "source": [
    "sum(before) - sum(after)"
   ]
  },
  {
   "cell_type": "code",
   "execution_count": 35,
   "metadata": {},
   "outputs": [
    {
     "data": {
      "text/html": [
       "<div>\n",
       "<style>\n",
       "    .dataframe thead tr:only-child th {\n",
       "        text-align: right;\n",
       "    }\n",
       "\n",
       "    .dataframe thead th {\n",
       "        text-align: left;\n",
       "    }\n",
       "\n",
       "    .dataframe tbody tr th {\n",
       "        vertical-align: top;\n",
       "    }\n",
       "</style>\n",
       "<table border=\"1\" class=\"dataframe\">\n",
       "  <thead>\n",
       "    <tr style=\"text-align: right;\">\n",
       "      <th>col_0</th>\n",
       "      <th>False</th>\n",
       "      <th>True</th>\n",
       "    </tr>\n",
       "    <tr>\n",
       "      <th>row_0</th>\n",
       "      <th></th>\n",
       "      <th></th>\n",
       "    </tr>\n",
       "  </thead>\n",
       "  <tbody>\n",
       "    <tr>\n",
       "      <th>False</th>\n",
       "      <td>73</td>\n",
       "      <td>16</td>\n",
       "    </tr>\n",
       "    <tr>\n",
       "      <th>True</th>\n",
       "      <td>18</td>\n",
       "      <td>49</td>\n",
       "    </tr>\n",
       "  </tbody>\n",
       "</table>\n",
       "</div>"
      ],
      "text/plain": [
       "col_0  False  True \n",
       "row_0              \n",
       "False     73     16\n",
       "True      18     49"
      ]
     },
     "execution_count": 35,
     "metadata": {},
     "output_type": "execute_result"
    }
   ],
   "source": [
    "ct"
   ]
  },
  {
   "cell_type": "code",
   "execution_count": 36,
   "metadata": {},
   "outputs": [
    {
     "data": {
      "text/plain": [
       "(12.420138888888889, 3.8514604502565662e-12)"
      ]
     },
     "execution_count": 36,
     "metadata": {},
     "output_type": "execute_result"
    }
   ],
   "source": [
    "statistic"
   ]
  },
  {
   "cell_type": "code",
   "execution_count": null,
   "metadata": {
    "collapsed": true
   },
   "outputs": [],
   "source": []
  },
  {
   "cell_type": "code",
   "execution_count": 37,
   "metadata": {
    "collapsed": true
   },
   "outputs": [],
   "source": [
    "## Frequency of app use\n",
    "appUsageCols = [\"AppUsage[SQ00%d]\" %i for i in range(1,9)]\n",
    "appUsageReplacement = {'Daily' : 1.0, 'Installed, but rarely used' : 0.5/30, 'Monthly' : 1/30, 'Not installed' : 0,\n",
    "       'Weekly' : 7/30}\n",
    "usageScore = ls[appUsageCols].replace(appUsageReplacement).sum(axis=1)\n",
    "ls['usageScore'] = usageScore"
   ]
  },
  {
   "cell_type": "code",
   "execution_count": null,
   "metadata": {
    "collapsed": true
   },
   "outputs": [],
   "source": []
  },
  {
   "cell_type": "code",
   "execution_count": 38,
   "metadata": {},
   "outputs": [
    {
     "data": {
      "text/plain": [
       "<matplotlib.axes._subplots.AxesSubplot at 0x7f9cf2f9d080>"
      ]
     },
     "execution_count": 38,
     "metadata": {},
     "output_type": "execute_result"
    },
    {
     "data": {
      "image/png": "[encoded data removed]",
      "text/plain": [
       "<matplotlib.figure.Figure at 0x7f9cf2f91390>"
      ]
     },
     "metadata": {},
     "output_type": "display_data"
    }
   ],
   "source": [
    "usageScore.hist()"
   ]
  },
  {
   "cell_type": "code",
   "execution_count": 39,
   "metadata": {},
   "outputs": [
    {
     "data": {
      "text/plain": [
       "<matplotlib.axes._subplots.AxesSubplot at 0x7f9cf0e2cc18>"
      ]
     },
     "execution_count": 39,
     "metadata": {},
     "output_type": "execute_result"
    },
    {
     "data": {
      "image/png": "[encoded data removed]",
      "text/plain": [
       "<matplotlib.figure.Figure at 0x7f9cf2f91710>"
      ]
     },
     "metadata": {},
     "output_type": "display_data"
    }
   ],
   "source": [
    "ls.groupby('usageScore').changeScore.mean().plot()"
   ]
  },
  {
   "cell_type": "code",
   "execution_count": 40,
   "metadata": {},
   "outputs": [
    {
     "data": {
      "text/plain": [
       "SpearmanrResult(correlation=-0.10358988401686779, pvalue=0.13273036790667941)"
      ]
     },
     "execution_count": 40,
     "metadata": {},
     "output_type": "execute_result"
    }
   ],
   "source": [
    "stats.spearmanr(usageScore, ls.changeScore)"
   ]
  },
  {
   "cell_type": "code",
   "execution_count": 41,
   "metadata": {
    "collapsed": true
   },
   "outputs": [],
   "source": [
    "## Non-significant positive correlation - although the mean graph says it all."
   ]
  },
  {
   "cell_type": "code",
   "execution_count": 42,
   "metadata": {
    "collapsed": true
   },
   "outputs": [],
   "source": [
    "#age:"
   ]
  },
  {
   "cell_type": "code",
   "execution_count": null,
   "metadata": {
    "collapsed": true
   },
   "outputs": [],
   "source": []
  },
  {
   "cell_type": "code",
   "execution_count": 43,
   "metadata": {},
   "outputs": [
    {
     "data": {
      "text/plain": [
       "<matplotlib.axes._subplots.AxesSubplot at 0x7f9cf0dbf5c0>"
      ]
     },
     "execution_count": 43,
     "metadata": {},
     "output_type": "execute_result"
    },
    {
     "data": {
      "image/png": "[encoded data removed]",
      "text/plain": [
       "<matplotlib.figure.Figure at 0x7f9cf0d8e9b0>"
      ]
     },
     "metadata": {},
     "output_type": "display_data"
    }
   ],
   "source": [
    "ls[ls.Age > 17].groupby('Age').changeScore.mean().plot()"
   ]
  },
  {
   "cell_type": "code",
   "execution_count": 44,
   "metadata": {
    "collapsed": true
   },
   "outputs": [],
   "source": [
    "ls[\"AgeGroups\"] = pd.cut(ls[ls.Age > 17].Age, bins=[17,24,30,36,48,60,100])"
   ]
  },
  {
   "cell_type": "code",
   "execution_count": 45,
   "metadata": {},
   "outputs": [
    {
     "data": {
      "text/plain": [
       "(24, 30]     60\n",
       "(36, 48]     53\n",
       "(30, 36]     46\n",
       "(17, 24]     28\n",
       "(48, 60]     20\n",
       "(60, 100]     4\n",
       "Name: AgeGroups, dtype: int64"
      ]
     },
     "execution_count": 45,
     "metadata": {},
     "output_type": "execute_result"
    }
   ],
   "source": [
    "ls.AgeGroups.value_counts()"
   ]
  },
  {
   "cell_type": "code",
   "execution_count": 46,
   "metadata": {},
   "outputs": [
    {
     "data": {
      "text/plain": [
       "<matplotlib.axes._subplots.AxesSubplot at 0x7f9cf0e232b0>"
      ]
     },
     "execution_count": 46,
     "metadata": {},
     "output_type": "execute_result"
    },
    {
     "data": {
      "image/png": "[encoded data removed]",
      "text/plain": [
       "<matplotlib.figure.Figure at 0x7f9cf0cacd30>"
      ]
     },
     "metadata": {},
     "output_type": "display_data"
    }
   ],
   "source": [
    "ls.boxplot(column=\"changeScore\", by=\"AgeGroups\")"
   ]
  },
  {
   "cell_type": "code",
   "execution_count": 47,
   "metadata": {},
   "outputs": [
    {
     "data": {
      "text/plain": [
       "SpearmanrResult(correlation=0.020916090039392026, pvalue=0.76261243988253569)"
      ]
     },
     "execution_count": 47,
     "metadata": {},
     "output_type": "execute_result"
    }
   ],
   "source": [
    "stats.spearmanr(ls[ls.Age > 17].Age, ls[ls.Age > 17].changeScore)"
   ]
  },
  {
   "cell_type": "code",
   "execution_count": null,
   "metadata": {
    "collapsed": true
   },
   "outputs": [],
   "source": []
  },
  {
   "cell_type": "code",
   "execution_count": null,
   "metadata": {
    "collapsed": true
   },
   "outputs": [],
   "source": []
  }
 ],
 "metadata": {
  "kernelspec": {
   "display_name": "Python 3",
   "language": "python",
   "name": "python3"
  },
  "language_info": {
   "codemirror_mode": {
    "name": "ipython",
    "version": 3
   },
   "file_extension": ".py",
   "mimetype": "text/x-python",
   "name": "python",
   "nbconvert_exporter": "python",
   "pygments_lexer": "ipython3",
   "version": "3.6.0"
  }
 },
 "nbformat": 4,
 "nbformat_minor": 2
}
